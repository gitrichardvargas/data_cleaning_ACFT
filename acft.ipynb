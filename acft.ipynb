{
 "cells": [
  {
   "cell_type": "code",
   "execution_count": 1,
   "metadata": {},
   "outputs": [],
   "source": [
    "import pandas as pd\n",
    "import numpy as np\n",
    "import json"
   ]
  },
  {
   "cell_type": "markdown",
   "metadata": {},
   "source": [
    "# Data Cleaning and Rough Draft for ACFT Calculaor "
   ]
  },
  {
   "cell_type": "markdown",
   "metadata": {},
   "source": [
    "## I took excel tables from here: https://companyleader.themilitaryleader.com/2019/11/07/acft-calculator-tracker/\n",
    "## That are accurate to the US Army PDF that's more difficult to take data from here: https://www.goarmy.com/how-to-join/requirements/fitness"
   ]
  },
  {
   "cell_type": "markdown",
   "metadata": {},
   "source": [
    "### Being new to Swift, I chose to write a rough draft version of the main calculations in Python. Knowing that Swift seems to favor funciotnal programming I went with dictionaries over Python objects. This also made sense with the end goal being to place the data in JSON (since JavaScript objects are pretty similar to Python dictionaries)\n",
    "\n",
    "### I felt the author, \"The Company Leader\", of the Excel calculator was too faithful to the Army website's formatting. I'm taking his excel tables, turning them to pandas data frames, subsetting them as needed to make the JSON file for the actual app. There's also a function to do the primary logic of the iOS app that takes a dictionary as an argument and calculate an indivual's score. \n",
    "\n",
    "### There are three stages to this app: (1) basic iOS ACFT calculator for an individual, (2) add SQLite for tracking individual historic performance metrics and for unit leaders to quickly log results for their soldiers and recieve an Excel document with the results, and (3) create a feature to scan handwriting on DA 705s to instantly get ACFT scores.  This notebook is only relevant for stage one of this app. "
   ]
  },
  {
   "cell_type": "markdown",
   "metadata": {},
   "source": [
    "## converting excel tables to data frames to be cleaned for each event "
   ]
  },
  {
   "cell_type": "markdown",
   "metadata": {},
   "source": [
    " ### copied and pasted score charts into my own excel file and creating data frames from there "
   ]
  },
  {
   "cell_type": "code",
   "execution_count": 2,
   "metadata": {},
   "outputs": [],
   "source": [
    "# the big adjustments are really just setting this up to be one bit list of dictionaries for a JSON document \n",
    "# I added gender, so that it'll be easy to filter later \n",
    "\n",
    "# male scoring charts\n",
    "male_dl = pd.read_excel(\"scoreChartsACFT.xlsx\", sheet_name=\"male_dl\").replace('---', np.nan).assign(gender='male').assign(event='deadlift')\n",
    "male_spt = pd.read_excel(\"scoreChartsACFT.xlsx\", sheet_name=\"male_spt\").replace('---', np.nan).assign(gender='male').assign(event='standing power throw')\n",
    "male_hrp = pd.read_excel(\"scoreChartsACFT.xlsx\", sheet_name=\"male_hrp\").replace('---', np.nan).assign(gender='male').assign(event='hand release pushups')\n",
    "male_sdc = pd.read_excel(\"scoreChartsACFT.xlsx\", sheet_name=\"male_sdc\").replace('---', np.nan).assign(gender='male').assign(event='sprint drag carry')\n",
    "male_plk = pd.read_excel(\"scoreChartsACFT.xlsx\", sheet_name=\"male_plk\").replace('---', np.nan).assign(gender='male').assign(event='plank')\n",
    "male_tmr = pd.read_excel(\"scoreChartsACFT.xlsx\", sheet_name=\"male_tmr\").replace('---', np.nan).assign(gender='male').assign(event='two mile run')\n",
    "\n",
    "# female scoring charts\n",
    "female_dl = pd.read_excel(\"scoreChartsACFT.xlsx\", sheet_name=\"female_dl\").replace('---', np.nan).assign(gender='female').assign(event='deadlift')\n",
    "female_spt = pd.read_excel(\"scoreChartsACFT.xlsx\", sheet_name=\"female_spt\").replace('---', np.nan).assign(gender='female').assign(event='standing power throw')\n",
    "female_hrp = pd.read_excel(\"scoreChartsACFT.xlsx\", sheet_name=\"female_hrp\").replace('---', np.nan).assign(gender='female').assign(event='hand release pushups')\n",
    "female_sdc = pd.read_excel(\"scoreChartsACFT.xlsx\", sheet_name=\"female_sdc\").replace('---', np.nan).assign(gender='female').assign(event='sprint drag carry')\n",
    "female_plk = pd.read_excel(\"scoreChartsACFT.xlsx\", sheet_name=\"female_plk\").replace('---', np.nan).assign(gender='female').assign(event='plank')\n",
    "female_tmr = pd.read_excel(\"scoreChartsACFT.xlsx\", sheet_name=\"female_tmr\").replace('---', np.nan).assign(gender='female').assign(event='two mile run')\n",
    "\n",
    "# male alternative cardio\n",
    "male_walk = pd.read_excel(\"scoreChartsACFT.xlsx\", sheet_name=\"male_walk\").assign(gender='male').assign(event='walk')\n",
    "male_swim = pd.read_excel(\"scoreChartsACFT.xlsx\", sheet_name=\"male_swim\").assign(gender='male').assign(event='swim')\n",
    "male_bike = pd.read_excel(\"scoreChartsACFT.xlsx\", sheet_name=\"male_bike\").assign(gender='male').assign(event='bike')\n",
    "male_row = pd.read_excel(\"scoreChartsACFT.xlsx\", sheet_name=\"male_row\").assign(gender='male').assign(event='row')\n",
    "\n",
    "# female alternative cardio\n",
    "female_walk = pd.read_excel(\"scoreChartsACFT.xlsx\", sheet_name=\"female_walk\").assign(gender='female').assign(event='walk')\n",
    "female_swim = pd.read_excel(\"scoreChartsACFT.xlsx\", sheet_name=\"female_swim\").assign(gender='female').assign(event='swim')\n",
    "female_bike = pd.read_excel(\"scoreChartsACFT.xlsx\", sheet_name=\"female_bike\").assign(gender='female').assign(event='bike')\n",
    "female_row = pd.read_excel(\"scoreChartsACFT.xlsx\", sheet_name=\"female_row\").assign(gender='female').assign(event='row')\n",
    "\n",
    "\n",
    "sheets = [ # list of all data frames \n",
    "    # core six events for both genders\n",
    "    male_dl, female_dl, male_spt, female_spt, \n",
    "    male_hrp, female_hrp, male_sdc, female_sdc, \n",
    "    male_plk, female_plk, male_tmr, female_tmr,\n",
    "    # alternative cardio events... worry about them later \n",
    "    male_walk, male_swim, male_bike, male_row,\n",
    "    female_walk, female_swim, female_bike, female_row\n",
    "]"
   ]
  },
  {
   "cell_type": "code",
   "execution_count": 3,
   "metadata": {},
   "outputs": [
    {
     "data": {
      "text/html": [
       "<div>\n",
       "<style scoped>\n",
       "    .dataframe tbody tr th:only-of-type {\n",
       "        vertical-align: middle;\n",
       "    }\n",
       "\n",
       "    .dataframe tbody tr th {\n",
       "        vertical-align: top;\n",
       "    }\n",
       "\n",
       "    .dataframe thead th {\n",
       "        text-align: right;\n",
       "    }\n",
       "</style>\n",
       "<table border=\"1\" class=\"dataframe\">\n",
       "  <thead>\n",
       "    <tr style=\"text-align: right;\">\n",
       "      <th></th>\n",
       "      <th>17</th>\n",
       "      <th>22</th>\n",
       "      <th>27</th>\n",
       "      <th>32</th>\n",
       "      <th>37</th>\n",
       "      <th>42</th>\n",
       "      <th>47</th>\n",
       "      <th>52</th>\n",
       "      <th>57</th>\n",
       "      <th>62</th>\n",
       "      <th>Points</th>\n",
       "      <th>gender</th>\n",
       "      <th>event</th>\n",
       "    </tr>\n",
       "  </thead>\n",
       "  <tbody>\n",
       "    <tr>\n",
       "      <th>0</th>\n",
       "      <td>10000</td>\n",
       "      <td>10000</td>\n",
       "      <td>10000</td>\n",
       "      <td>10000</td>\n",
       "      <td>10000</td>\n",
       "      <td>10000</td>\n",
       "      <td>10000</td>\n",
       "      <td>10000</td>\n",
       "      <td>10000</td>\n",
       "      <td>10000</td>\n",
       "      <td>0</td>\n",
       "      <td>female</td>\n",
       "      <td>sprint drag carry</td>\n",
       "    </tr>\n",
       "    <tr>\n",
       "      <th>1</th>\n",
       "      <td>415</td>\n",
       "      <td>415</td>\n",
       "      <td>415</td>\n",
       "      <td>422</td>\n",
       "      <td>427</td>\n",
       "      <td>442</td>\n",
       "      <td>451</td>\n",
       "      <td>503</td>\n",
       "      <td>548</td>\n",
       "      <td>548</td>\n",
       "      <td>0</td>\n",
       "      <td>female</td>\n",
       "      <td>sprint drag carry</td>\n",
       "    </tr>\n",
       "    <tr>\n",
       "      <th>2</th>\n",
       "      <td>414</td>\n",
       "      <td>414</td>\n",
       "      <td>414</td>\n",
       "      <td>421</td>\n",
       "      <td>426</td>\n",
       "      <td>441</td>\n",
       "      <td>450</td>\n",
       "      <td>502</td>\n",
       "      <td>547</td>\n",
       "      <td>547</td>\n",
       "      <td>1</td>\n",
       "      <td>female</td>\n",
       "      <td>sprint drag carry</td>\n",
       "    </tr>\n",
       "    <tr>\n",
       "      <th>3</th>\n",
       "      <td>413</td>\n",
       "      <td>413</td>\n",
       "      <td>413</td>\n",
       "      <td>420</td>\n",
       "      <td>425</td>\n",
       "      <td>440</td>\n",
       "      <td>449</td>\n",
       "      <td>501</td>\n",
       "      <td>546</td>\n",
       "      <td>546</td>\n",
       "      <td>2</td>\n",
       "      <td>female</td>\n",
       "      <td>sprint drag carry</td>\n",
       "    </tr>\n",
       "    <tr>\n",
       "      <th>4</th>\n",
       "      <td>412</td>\n",
       "      <td>412</td>\n",
       "      <td>412</td>\n",
       "      <td>419</td>\n",
       "      <td>424</td>\n",
       "      <td>439</td>\n",
       "      <td>448</td>\n",
       "      <td>500</td>\n",
       "      <td>545</td>\n",
       "      <td>545</td>\n",
       "      <td>3</td>\n",
       "      <td>female</td>\n",
       "      <td>sprint drag carry</td>\n",
       "    </tr>\n",
       "    <tr>\n",
       "      <th>...</th>\n",
       "      <td>...</td>\n",
       "      <td>...</td>\n",
       "      <td>...</td>\n",
       "      <td>...</td>\n",
       "      <td>...</td>\n",
       "      <td>...</td>\n",
       "      <td>...</td>\n",
       "      <td>...</td>\n",
       "      <td>...</td>\n",
       "      <td>...</td>\n",
       "      <td>...</td>\n",
       "      <td>...</td>\n",
       "      <td>...</td>\n",
       "    </tr>\n",
       "    <tr>\n",
       "      <th>97</th>\n",
       "      <td>206</td>\n",
       "      <td>205</td>\n",
       "      <td>206</td>\n",
       "      <td>210</td>\n",
       "      <td>214</td>\n",
       "      <td>218</td>\n",
       "      <td>226</td>\n",
       "      <td>232</td>\n",
       "      <td>241</td>\n",
       "      <td>241</td>\n",
       "      <td>96</td>\n",
       "      <td>female</td>\n",
       "      <td>sprint drag carry</td>\n",
       "    </tr>\n",
       "    <tr>\n",
       "      <th>98</th>\n",
       "      <td>205</td>\n",
       "      <td>202</td>\n",
       "      <td>204</td>\n",
       "      <td>208</td>\n",
       "      <td>211</td>\n",
       "      <td>217</td>\n",
       "      <td>224</td>\n",
       "      <td>230</td>\n",
       "      <td>239</td>\n",
       "      <td>239</td>\n",
       "      <td>97</td>\n",
       "      <td>female</td>\n",
       "      <td>sprint drag carry</td>\n",
       "    </tr>\n",
       "    <tr>\n",
       "      <th>99</th>\n",
       "      <td>202</td>\n",
       "      <td>200</td>\n",
       "      <td>201</td>\n",
       "      <td>205</td>\n",
       "      <td>210</td>\n",
       "      <td>215</td>\n",
       "      <td>222</td>\n",
       "      <td>228</td>\n",
       "      <td>234</td>\n",
       "      <td>234</td>\n",
       "      <td>98</td>\n",
       "      <td>female</td>\n",
       "      <td>sprint drag carry</td>\n",
       "    </tr>\n",
       "    <tr>\n",
       "      <th>100</th>\n",
       "      <td>159</td>\n",
       "      <td>156</td>\n",
       "      <td>157</td>\n",
       "      <td>201</td>\n",
       "      <td>204</td>\n",
       "      <td>210</td>\n",
       "      <td>213</td>\n",
       "      <td>221</td>\n",
       "      <td>228</td>\n",
       "      <td>228</td>\n",
       "      <td>99</td>\n",
       "      <td>female</td>\n",
       "      <td>sprint drag carry</td>\n",
       "    </tr>\n",
       "    <tr>\n",
       "      <th>101</th>\n",
       "      <td>155</td>\n",
       "      <td>155</td>\n",
       "      <td>155</td>\n",
       "      <td>159</td>\n",
       "      <td>202</td>\n",
       "      <td>209</td>\n",
       "      <td>211</td>\n",
       "      <td>218</td>\n",
       "      <td>226</td>\n",
       "      <td>226</td>\n",
       "      <td>100</td>\n",
       "      <td>female</td>\n",
       "      <td>sprint drag carry</td>\n",
       "    </tr>\n",
       "  </tbody>\n",
       "</table>\n",
       "<p>102 rows × 13 columns</p>\n",
       "</div>"
      ],
      "text/plain": [
       "        17     22     27     32     37     42     47     52     57     62  \\\n",
       "0    10000  10000  10000  10000  10000  10000  10000  10000  10000  10000   \n",
       "1      415    415    415    422    427    442    451    503    548    548   \n",
       "2      414    414    414    421    426    441    450    502    547    547   \n",
       "3      413    413    413    420    425    440    449    501    546    546   \n",
       "4      412    412    412    419    424    439    448    500    545    545   \n",
       "..     ...    ...    ...    ...    ...    ...    ...    ...    ...    ...   \n",
       "97     206    205    206    210    214    218    226    232    241    241   \n",
       "98     205    202    204    208    211    217    224    230    239    239   \n",
       "99     202    200    201    205    210    215    222    228    234    234   \n",
       "100    159    156    157    201    204    210    213    221    228    228   \n",
       "101    155    155    155    159    202    209    211    218    226    226   \n",
       "\n",
       "     Points  gender              event  \n",
       "0         0  female  sprint drag carry  \n",
       "1         0  female  sprint drag carry  \n",
       "2         1  female  sprint drag carry  \n",
       "3         2  female  sprint drag carry  \n",
       "4         3  female  sprint drag carry  \n",
       "..      ...     ...                ...  \n",
       "97       96  female  sprint drag carry  \n",
       "98       97  female  sprint drag carry  \n",
       "99       98  female  sprint drag carry  \n",
       "100      99  female  sprint drag carry  \n",
       "101     100  female  sprint drag carry  \n",
       "\n",
       "[102 rows x 13 columns]"
      ]
     },
     "execution_count": 3,
     "metadata": {},
     "output_type": "execute_result"
    }
   ],
   "source": [
    "female_sdc"
   ]
  },
  {
   "cell_type": "markdown",
   "metadata": {},
   "source": [
    "### filtering data frames and creating a JSON file "
   ]
  },
  {
   "cell_type": "markdown",
   "metadata": {},
   "source": [
    "#### exploratory data analysis "
   ]
  },
  {
   "cell_type": "code",
   "execution_count": 4,
   "metadata": {},
   "outputs": [
    {
     "name": "stdout",
     "output_type": "stream",
     "text": [
      "48\n",
      "48\n",
      "102\n",
      "102\n",
      "48\n",
      "48\n",
      "102\n",
      "102\n",
      "102\n",
      "102\n",
      "102\n",
      "102\n",
      "2\n",
      "2\n",
      "2\n",
      "2\n",
      "2\n",
      "2\n",
      "2\n",
      "2\n"
     ]
    }
   ],
   "source": [
    "# probably worth keeping a custom points vector with each data frame, \n",
    "# as the number of rows vary \n",
    "for df in sheets: # showing that there's an even amount of entries for both genders\n",
    "    print(len(df))"
   ]
  },
  {
   "cell_type": "markdown",
   "metadata": {},
   "source": [
    "### in this cell I've placed all raw scores (times, lbs/reps lifted, etc), points, and events for all genders and ages as dictionaries into one single flat list. This isn't the format that I want to keep for the JSON object, but it's easy to work with later "
   ]
  },
  {
   "cell_type": "code",
   "execution_count": 6,
   "metadata": {},
   "outputs": [],
   "source": [
    "# ages are the same for all data frames in sheets\n",
    "ages = female_dl.columns.tolist()[:-3] # ['17', '22', '27', '32', '37', '42', '47', '52', '57', '62']  \n",
    "\n",
    "age_raw_pts_dicts = []  # List to store the dictionaries\n",
    "\n",
    "for sheet in sheets:\n",
    "    points = sheet['Points'].tolist()\n",
    "    gender = sheet['gender'].iloc[0]  # constant for the sheet\n",
    "    event = sheet['event'].iloc[0]  #  constant for the sheet\n",
    "    \n",
    "    for age in ages:\n",
    "        age_scale = sheet[age].tolist()\n",
    "        \n",
    "        for i in range(len(age_scale)):\n",
    "            if pd.notna(age_scale[i]):  # handles NaN directly\n",
    "                # appends the dictionary with aligned data\n",
    "                age_raw_pts_dicts.append({\n",
    "                    'age': age,\n",
    "                    'raw': age_scale[i],\n",
    "                    'points': points[i],\n",
    "                    'gender': gender,\n",
    "                    'event': event\n",
    "                })"
   ]
  },
  {
   "cell_type": "code",
   "execution_count": 80,
   "metadata": {},
   "outputs": [
    {
     "data": {
      "text/plain": [
       "[{'age': '17', 'raw': 0.0, 'points': 0, 'gender': 'male', 'event': 'deadlift'},\n",
       " {'age': '17',\n",
       "  'raw': 80.0,\n",
       "  'points': 0,\n",
       "  'gender': 'male',\n",
       "  'event': 'deadlift'},\n",
       " {'age': '17',\n",
       "  'raw': 90.0,\n",
       "  'points': 10,\n",
       "  'gender': 'male',\n",
       "  'event': 'deadlift'},\n",
       " {'age': '17',\n",
       "  'raw': 100.0,\n",
       "  'points': 20,\n",
       "  'gender': 'male',\n",
       "  'event': 'deadlift'},\n",
       " {'age': '17',\n",
       "  'raw': 110.0,\n",
       "  'points': 30,\n",
       "  'gender': 'male',\n",
       "  'event': 'deadlift'}]"
      ]
     },
     "execution_count": 80,
     "metadata": {},
     "output_type": "execute_result"
    }
   ],
   "source": [
    "age_raw_pts_dicts[:5] # showing the structure...continues for both genders until alternate cardio for the 62>= year old category "
   ]
  },
  {
   "cell_type": "code",
   "execution_count": 81,
   "metadata": {},
   "outputs": [
    {
     "data": {
      "text/plain": [
       "7847"
      ]
     },
     "execution_count": 81,
     "metadata": {},
     "output_type": "execute_result"
    }
   ],
   "source": [
    "len(age_raw_pts_dicts) # total number of dictionaries in the list "
   ]
  },
  {
   "cell_type": "markdown",
   "metadata": {},
   "source": [
    "## this is the first layer of subsetting, not the most efficient way to do this, but it's easy for me to manage and control. the result is having list of dictionaries for scoring for each gender by age group"
   ]
  },
  {
   "cell_type": "code",
   "execution_count": 7,
   "metadata": {},
   "outputs": [],
   "source": [
    "grouped_data = {}\n",
    "genders = ['male', 'female']\n",
    "\n",
    "\n",
    "# making subsets of age_raw_pts_dicts for both readability and to minimize future looping in application\n",
    "for age in ages:\n",
    "    for gender in genders:\n",
    "        key = f\"{age}_plus_{gender}\"  # dynamic variable name\n",
    "        grouped_data[key] = [\n",
    "            d for d in age_raw_pts_dicts \n",
    "            if d['age'] == age and d['gender'] == gender\n",
    "        ]\n",
    "\n",
    "\n",
    "# males\n",
    "seventeen_plus_male = grouped_data['17_plus_male']\n",
    "twentytwo_plus_male = grouped_data['22_plus_male']\n",
    "twentyseven_plus_male = grouped_data['27_plus_male']\n",
    "thirtytwo_plus_male = grouped_data['32_plus_male']\n",
    "thirtyseven_plus_male = grouped_data['37_plus_male']\n",
    "fortytwo_plus_male = grouped_data['42_plus_male']\n",
    "fortyseven_plus_male = grouped_data['47_plus_male']\n",
    "fiftytwo_plus_male = grouped_data['52_plus_male']\n",
    "fiftyseven_plus_male = grouped_data['57_plus_male']\n",
    "sixty_two_plus_male = grouped_data['62_plus_male']\n",
    "\n",
    "males = [seventeen_plus_male, twentytwo_plus_male, twentyseven_plus_male, thirtytwo_plus_male,\n",
    "         thirtyseven_plus_male, fortytwo_plus_male, fortyseven_plus_male, fiftytwo_plus_male, \n",
    "         fiftyseven_plus_male, sixty_two_plus_male]\n",
    "\n",
    "# females\n",
    "seventeen_plus_female = grouped_data['17_plus_female']\n",
    "twentytwo_plus_female = grouped_data['22_plus_female']\n",
    "twentyseven_plus_female = grouped_data['27_plus_female']\n",
    "thirtytwo_plus_female = grouped_data['32_plus_female']\n",
    "thirtyseven_plus_female = grouped_data['37_plus_female']\n",
    "fortytwo_plus_female = grouped_data['42_plus_female']\n",
    "fortyseven_plus_female = grouped_data['47_plus_female']\n",
    "fiftytwo_plus_female = grouped_data['52_plus_female']\n",
    "fiftyseven_plus_female = grouped_data['57_plus_female']\n",
    "sixty_two_plus_female = grouped_data['62_plus_female']\n",
    "\n",
    "females = [seventeen_plus_female, twentytwo_plus_female, twentyseven_plus_female, thirtytwo_plus_female,\n",
    "         thirtyseven_plus_female, fortytwo_plus_female, fortyseven_plus_female, fiftytwo_plus_female, \n",
    "         fiftyseven_plus_female, sixty_two_plus_female]\n",
    "\n",
    "\n",
    "\n"
   ]
  },
  {
   "cell_type": "code",
   "execution_count": 12,
   "metadata": {},
   "outputs": [
    {
     "data": {
      "text/plain": [
       "[{'age': '32',\n",
       "  'raw': 200.0,\n",
       "  'points': 96,\n",
       "  'gender': 'female',\n",
       "  'event': 'deadlift'},\n",
       " {'age': '32',\n",
       "  'raw': 210.0,\n",
       "  'points': 98,\n",
       "  'gender': 'female',\n",
       "  'event': 'deadlift'},\n",
       " {'age': '32',\n",
       "  'raw': 220.0,\n",
       "  'points': 99,\n",
       "  'gender': 'female',\n",
       "  'event': 'deadlift'},\n",
       " {'age': '32',\n",
       "  'raw': 230.0,\n",
       "  'points': 100,\n",
       "  'gender': 'female',\n",
       "  'event': 'deadlift'},\n",
       " {'age': '32',\n",
       "  'raw': 0.0,\n",
       "  'points': 0,\n",
       "  'gender': 'female',\n",
       "  'event': 'standing power throw'}]"
      ]
     },
     "execution_count": 12,
     "metadata": {},
     "output_type": "execute_result"
    }
   ],
   "source": [
    "thirtytwo_plus_female[15:20] # example output. Notice that the event data is still mixed and inefficient for a JSON object "
   ]
  },
  {
   "cell_type": "markdown",
   "metadata": {},
   "source": [
    "### I wrote a function that separates dictionaries into their own lists to use later "
   ]
  },
  {
   "cell_type": "code",
   "execution_count": 68,
   "metadata": {},
   "outputs": [
    {
     "data": {
      "text/plain": [
       "[{'raw': 0, 'Points': 0, 'event': 'jumping jacks'},\n",
       " {'raw': 5, 'Points': 0, 'event': 'jumping jacks'},\n",
       " {'raw': 7, 'Points': 30, 'event': 'jumping jacks'},\n",
       " {'raw': 10, 'Points': 60, 'event': 'jumping jacks'},\n",
       " {'raw': 12, 'Points': 70, 'event': 'jumping jacks'},\n",
       " {'raw': 12, 'Points': 70, 'event': 'jumping jacks'},\n",
       " {'raw': 20, 'Points': 90, 'event': 'jumping jacks'},\n",
       " {'raw': 22, 'Points': 95, 'event': 'jumping jacks'},\n",
       " {'raw': 24, 'Points': 100, 'event': 'jumping jacks'}]"
      ]
     },
     "execution_count": 68,
     "metadata": {},
     "output_type": "execute_result"
    }
   ],
   "source": [
    "# a function that will automatically create dictionaries with lists\n",
    "# this works perfectly if we have it subsetted where the current JSON object is (able to filter gender then age ex: dict_to_json['female']['17'])\n",
    "# fake event table \n",
    "fake_events = [ # not a real events, but points are scaled in similar way \n",
    "    # jumping jacks\n",
    "    {'raw': 0, 'Points': 0, 'event': 'jumping jacks'}, {'raw': 5, 'Points': 0, 'event': 'jumping jacks'}, {'raw': 7, 'Points': 30, 'event': 'jumping jacks'}, \n",
    "    {'raw': 10, 'Points': 60, 'event': 'jumping jacks'}, {'raw': 12, 'Points': 70, 'event': 'jumping jacks'}, {'raw': 12, 'Points': 70, 'event': 'jumping jacks'}, \n",
    "    {'raw': 20, 'Points': 90, 'event': 'jumping jacks'}, {'raw': 22, 'Points': 95, 'event': 'jumping jacks'}, {'raw': 24, 'Points': 100, 'event': 'jumping jacks'},    \n",
    "    # low crawl \n",
    "    {'raw': 1000, 'Points': 0, 'event': 'low crawl'}, {'raw': 350, 'Points': 0, 'event': 'low crawl'}, {'raw': 240, 'Points': 30, 'event': 'low crawl'}, \n",
    "    {'raw': 210, 'Points': 60, 'event': 'low crawl'}, {'raw': 150, 'Points': 70, 'event': 'low crawl'}, {'raw': 120, 'Points': 70, 'event': 'low crawl'}, \n",
    "    {'raw': 110, 'Points': 90, 'event': 'low crawl'}, {'raw': 105, 'Points': 95, 'event': 'low crawl'}, {'raw': 100, 'Points': 100, 'event': 'low crawl'},   \n",
    "]\n",
    "\n",
    "def make_event_lists(scores): \n",
    "    \n",
    "    # temporary empty lists of fake events that need to be replaced with the real events of: \n",
    "    # deadlift, standing power throw, hand release pushups, sprint drag carry, plank, two mile run, row, swim, bike, and walk\n",
    "    jumping_jacks = [] \n",
    "    low_crawl = []\n",
    "    for score in scores: \n",
    "        if score['event'] == 'jumping jacks': \n",
    "            jumping_jacks.append(score)\n",
    "        elif score['event'] == 'low crawl': \n",
    "            low_crawl.append(score)\n",
    "\n",
    "    return {'jumping jacks': jumping_jacks, 'low_crawl': low_crawl}\n",
    "\n",
    "new_layer = make_event_lists(fake_events)\n",
    "new_layer['jumping jacks']"
   ]
  },
  {
   "cell_type": "markdown",
   "metadata": {},
   "source": [
    "## dict_to_json only uses the males and females lists and a dictionary comprehension to separate by age. Again, the smallest subset here is all events for a specific age and gender. Still need to further subset for more efficient searching in a future application "
   ]
  },
  {
   "cell_type": "code",
   "execution_count": 16,
   "metadata": {},
   "outputs": [],
   "source": [
    "dict_to_json = {\n",
    "    'male': {\n",
    "        ages[i]: males[i] for i in range(len(ages))\n",
    "    },\n",
    "    'female': {\n",
    "        ages[i]: females[i] for i in range(len(ages))\n",
    "    }\n",
    "}\n",
    "\n"
   ]
  },
  {
   "cell_type": "code",
   "execution_count": 17,
   "metadata": {},
   "outputs": [
    {
     "data": {
      "text/plain": [
       "[{'age': '32', 'raw': 0.0, 'points': 0, 'gender': 'male', 'event': 'deadlift'},\n",
       " {'age': '32',\n",
       "  'raw': 80.0,\n",
       "  'points': 0,\n",
       "  'gender': 'male',\n",
       "  'event': 'deadlift'},\n",
       " {'age': '32',\n",
       "  'raw': 90.0,\n",
       "  'points': 10,\n",
       "  'gender': 'male',\n",
       "  'event': 'deadlift'},\n",
       " {'age': '32',\n",
       "  'raw': 100.0,\n",
       "  'points': 20,\n",
       "  'gender': 'male',\n",
       "  'event': 'deadlift'},\n",
       " {'age': '32',\n",
       "  'raw': 110.0,\n",
       "  'points': 30,\n",
       "  'gender': 'male',\n",
       "  'event': 'deadlift'}]"
      ]
     },
     "execution_count": 17,
     "metadata": {},
     "output_type": "execute_result"
    }
   ],
   "source": [
    "dict_to_json['male']['32'][:5] # output of the first 5 events (deadlift failing scores) for men age 32+"
   ]
  },
  {
   "cell_type": "code",
   "execution_count": 19,
   "metadata": {},
   "outputs": [
    {
     "data": {
      "text/plain": [
       "[{'age': '32',\n",
       "  'raw': 6.5,\n",
       "  'points': 60,\n",
       "  'gender': 'male',\n",
       "  'event': 'standing power throw'},\n",
       " {'age': '32',\n",
       "  'raw': 7.1,\n",
       "  'points': 61,\n",
       "  'gender': 'male',\n",
       "  'event': 'standing power throw'},\n",
       " {'age': '32',\n",
       "  'raw': 7.4,\n",
       "  'points': 62,\n",
       "  'gender': 'male',\n",
       "  'event': 'standing power throw'},\n",
       " {'age': '32',\n",
       "  'raw': 7.6,\n",
       "  'points': 63,\n",
       "  'gender': 'male',\n",
       "  'event': 'standing power throw'},\n",
       " {'age': '32',\n",
       "  'raw': 7.9,\n",
       "  'points': 64,\n",
       "  'gender': 'male',\n",
       "  'event': 'standing power throw'}]"
      ]
     },
     "execution_count": 19,
     "metadata": {},
     "output_type": "execute_result"
    }
   ],
   "source": [
    "dict_to_json['male']['32'][50:55] # same dictionary, but standing power throw minimum passing scores "
   ]
  },
  {
   "cell_type": "markdown",
   "metadata": {},
   "source": [
    "## using the previously made make_event_list, I've updated it to mutate dict_to_json to give specificly subsetted results by gender, age and event. It's now easy to handle and obtain the points by the individual's raw score without needing to make future functions/excessive looping"
   ]
  },
  {
   "cell_type": "code",
   "execution_count": 20,
   "metadata": {},
   "outputs": [],
   "source": [
    "\n",
    "\n",
    "def make_event_lists_updated(scores): \n",
    "    # replaced  temporary placeholders with real event names\n",
    "    event_dict = {event: [] for event in {\n",
    "        'deadlift', 'standing power throw', 'hand release pushups',\n",
    "        'sprint drag carry', 'plank', 'two mile run',\n",
    "        'row', 'swim', 'bike', 'walk'\n",
    "    }}\n",
    "    \n",
    "    for score in scores:\n",
    "        if score['event'] in event_dict:\n",
    "            event_dict[score['event']].append(score)\n",
    "    \n",
    "    return event_dict\n",
    "\n",
    "# adding the new event-organized layer\n",
    "for gender, ages in dict_to_json.items():\n",
    "    for age, scores in ages.items():\n",
    "        # organizing scores by event for each age group\n",
    "        event_layer = make_event_lists_updated(scores)\n",
    "        dict_to_json[gender][age] = event_layer\n",
    "\n"
   ]
  },
  {
   "cell_type": "code",
   "execution_count": 22,
   "metadata": {},
   "outputs": [
    {
     "data": {
      "text/plain": [
       "[{'age': '62', 'raw': 0.0, 'points': 0, 'gender': 'male', 'event': 'deadlift'},\n",
       " {'age': '62',\n",
       "  'raw': 80.0,\n",
       "  'points': 0,\n",
       "  'gender': 'male',\n",
       "  'event': 'deadlift'},\n",
       " {'age': '62',\n",
       "  'raw': 90.0,\n",
       "  'points': 10,\n",
       "  'gender': 'male',\n",
       "  'event': 'deadlift'},\n",
       " {'age': '62',\n",
       "  'raw': 100.0,\n",
       "  'points': 20,\n",
       "  'gender': 'male',\n",
       "  'event': 'deadlift'},\n",
       " {'age': '62',\n",
       "  'raw': 110.0,\n",
       "  'points': 30,\n",
       "  'gender': 'male',\n",
       "  'event': 'deadlift'},\n",
       " {'age': '62',\n",
       "  'raw': 120.0,\n",
       "  'points': 40,\n",
       "  'gender': 'male',\n",
       "  'event': 'deadlift'},\n",
       " {'age': '62',\n",
       "  'raw': 130.0,\n",
       "  'points': 50,\n",
       "  'gender': 'male',\n",
       "  'event': 'deadlift'},\n",
       " {'age': '62',\n",
       "  'raw': 140.0,\n",
       "  'points': 60,\n",
       "  'gender': 'male',\n",
       "  'event': 'deadlift'},\n",
       " {'age': '62',\n",
       "  'raw': 150.0,\n",
       "  'points': 72,\n",
       "  'gender': 'male',\n",
       "  'event': 'deadlift'},\n",
       " {'age': '62',\n",
       "  'raw': 160.0,\n",
       "  'points': 82,\n",
       "  'gender': 'male',\n",
       "  'event': 'deadlift'},\n",
       " {'age': '62',\n",
       "  'raw': 170.0,\n",
       "  'points': 92,\n",
       "  'gender': 'male',\n",
       "  'event': 'deadlift'},\n",
       " {'age': '62',\n",
       "  'raw': 180.0,\n",
       "  'points': 93,\n",
       "  'gender': 'male',\n",
       "  'event': 'deadlift'},\n",
       " {'age': '62',\n",
       "  'raw': 190.0,\n",
       "  'points': 94,\n",
       "  'gender': 'male',\n",
       "  'event': 'deadlift'},\n",
       " {'age': '62',\n",
       "  'raw': 200.0,\n",
       "  'points': 95,\n",
       "  'gender': 'male',\n",
       "  'event': 'deadlift'},\n",
       " {'age': '62',\n",
       "  'raw': 210.0,\n",
       "  'points': 98,\n",
       "  'gender': 'male',\n",
       "  'event': 'deadlift'},\n",
       " {'age': '62',\n",
       "  'raw': 220.0,\n",
       "  'points': 99,\n",
       "  'gender': 'male',\n",
       "  'event': 'deadlift'},\n",
       " {'age': '62',\n",
       "  'raw': 230.0,\n",
       "  'points': 100,\n",
       "  'gender': 'male',\n",
       "  'event': 'deadlift'}]"
      ]
     },
     "execution_count": 22,
     "metadata": {},
     "output_type": "execute_result"
    }
   ],
   "source": [
    "dict_to_json['male']['62']['deadlift'] # shows all deadlift score results for a 62+ year old "
   ]
  },
  {
   "cell_type": "code",
   "execution_count": 76,
   "metadata": {},
   "outputs": [
    {
     "data": {
      "text/plain": [
       "5833.333333333334"
      ]
     },
     "execution_count": 76,
     "metadata": {},
     "output_type": "execute_result"
    }
   ],
   "source": [
    "m_per_min = 7000 / 30\n",
    "m_per_min * 25"
   ]
  }
 ],
 "metadata": {
  "kernelspec": {
   "display_name": "base",
   "language": "python",
   "name": "python3"
  },
  "language_info": {
   "codemirror_mode": {
    "name": "ipython",
    "version": 3
   },
   "file_extension": ".py",
   "mimetype": "text/x-python",
   "name": "python",
   "nbconvert_exporter": "python",
   "pygments_lexer": "ipython3",
   "version": "3.8.8"
  }
 },
 "nbformat": 4,
 "nbformat_minor": 2
}
